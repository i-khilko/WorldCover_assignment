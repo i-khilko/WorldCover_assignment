{
 "cells": [
  {
   "cell_type": "code",
   "execution_count": 478,
   "metadata": {},
   "outputs": [],
   "source": [
    "import pandas as pd\n",
    "import numpy as np\n",
    "import os"
   ]
  },
  {
   "cell_type": "code",
   "execution_count": 3,
   "metadata": {},
   "outputs": [
    {
     "name": "stdout",
     "output_type": "stream",
     "text": [
      "/Users/khiliv/Downloads/tables\n"
     ]
    }
   ],
   "source": [
    "cd '/Users/khiliv/Downloads/tables'"
   ]
  },
  {
   "cell_type": "code",
   "execution_count": 382,
   "metadata": {},
   "outputs": [],
   "source": [
    "#  READ IN TABLES \n",
    "#  NOTE: POVERTY RATE DATA COMES FROM 2015 GHANA POVERTY MAPPING REPORT PUBLISHED BY THE GHANA STATISTICAL SERVICE\n",
    "#  FOUND AT http://www2.statsghana.gov.gh/docfiles/publications/POVERTY%20MAP%20FOR%20GHANA-05102015.pdf\n",
    "\n",
    "communities = pd.read_csv('wc_communities.csv')\n",
    "community_payouts = pd.read_csv('wc_community_payouts.csv')\n",
    "policies = pd.read_csv('wc_customer_policies.csv')\n",
    "customers = pd.read_csv('wc_customers.csv')\n",
    "transactions = pd.read_csv('wc_policy_transactions.csv')\n",
    "poverty = pd.read_csv('poverty.csv')"
   ]
  },
  {
   "cell_type": "code",
   "execution_count": 383,
   "metadata": {},
   "outputs": [],
   "source": [
    "#  RENAME CERTAIN COLUMNS BC OF DUPLICATED NAMES ACROSS TABLES\n",
    "\n",
    "policies = policies.rename(index=str, columns={'season': 'season_policies', \n",
    "                                              'status':'status_policies',\n",
    "                                              'updated_at':'updated_at_policies',\n",
    "                                              'created_at': 'created_at_policies'})\n",
    "\n",
    "community_payouts = community_payouts.rename(index=str, columns={'season': 'season_community_payouts', \n",
    "                                              'status':'status_community_payouts',\n",
    "                                              'transaction_amount':'transaction_amount_community_payouts',\n",
    "                                               'created_at': 'created_at_community_payouts'})\n",
    "\n",
    "customers = customers.rename(index=str, columns={'created_at': 'created_at_customers', \n",
    "                                              'updated_at':'updated_at_customers'})\n",
    "\n",
    "transactions = transactions.rename(index=str, columns={'updated_at':'updated_at_transactions' })"
   ]
  },
  {
   "cell_type": "code",
   "execution_count": 384,
   "metadata": {},
   "outputs": [],
   "source": [
    "#  CREATE RENEWAL VARIABLE BY LOOKING AT WHETHER A CUSTOMER HAD A POLICY IN MORE THAN ONE SEASON \n",
    "\n",
    "policies = policies.sort_values(by=[\"customer_id\",'crop',\"season_policies\"]) \n",
    "policies['dupes'] = policies[\"customer_id\"].duplicated(keep=False) \n",
    "policies['dupes2'] = policies[[\"customer_id\",'season_policies']].duplicated(keep=False) \n",
    "\n",
    "def f(row):\n",
    "    if row['dupes'] != row['dupes2']:\n",
    "        val = 'renewed'\n",
    "    else:\n",
    "        val = 'didnt_renew'\n",
    "    return val\n",
    "\n",
    "policies['renewal'] = policies.apply(f, axis=1)"
   ]
  },
  {
   "cell_type": "code",
   "execution_count": 388,
   "metadata": {},
   "outputs": [],
   "source": [
    "#  DATA CLEANING WORK FOR DISTRICT IN POVERTY DATA TO MATCH WITH CORRESPONDING VARIABLE IN COMMUNITIES DATA \n",
    "\n",
    "poverty['district'] = poverty['district'].str.strip()\n",
    "poverty['poverty_rate'] = poverty['poverty_rate']/100\n",
    "\n",
    "communities['district'] = communities['district'].str.replace('-',' ')\n",
    "poverty['district'] = poverty['district'].str.replace('-',' ')\n",
    "\n",
    "poverty = poverty.replace({'district':{'Nadowli-Kaleo':'Nadowli', \n",
    "                                      'Gonja Central':'Central Gonja',\n",
    "                                      'Daffiama Bussie':'Daffiama Bussie Issa',\n",
    "                                      'Gushiegu':'Gushegu',\n",
    "                                      'Hohoe Municipal':'Hohoe',\n",
    "                                      'Kasena Nankana West':'Kassena Nankana West',\n",
    "                                      'Kumbumgu':'Kumbungu',\n",
    "                                      'Mamprugu Moagduri':'Mamprugu Moaduri',\n",
    "                                      'Sagnerigu Municipal':'Sagnarigu',\n",
    "                                      'Sunyani Municipal':'Sunyani',\n",
    "                                      'Tamale Metropolis':'Tamale Metropolitan',\n",
    "                                      'Tatale':'Tatale Sangule',\n",
    "                                      'Mamprusi West': 'West Mamprusi',\n",
    "                                      'Mamprusi East': 'East Mamprusi'}})"
   ]
  },
  {
   "cell_type": "code",
   "execution_count": 390,
   "metadata": {},
   "outputs": [],
   "source": [
    "#  CREATE MASTER TABLE OF CONSUMER PAYMENT LEVEL DATA, NOT DONE JUST AT CONSUMER LEVEL IN ORDER TO PRESERVE PREMIUM\n",
    "#  INFORMATION\n",
    "\n",
    "customers_m = communities.join(customers.set_index('community_id'), how='right', on='community_id')\n",
    "customers_m2 = customers_m.merge(poverty,on='district', how='left')\n",
    "customers_m3 = customers_m2.merge(policies, on='customer_id', how='inner')\n",
    "customers_m4 = customers_m3.merge(transactions, on='customer_policy_id', how='inner')"
   ]
  },
  {
   "cell_type": "code",
   "execution_count": 391,
   "metadata": {},
   "outputs": [],
   "source": [
    "#  DATA CLEANING WORK IN ORDER TO MERGE IN DISTRICT SHAPEFILE DATA FROM THE HUMANITARIAN DATA EXCHANGE FOUND AT \n",
    "#  https://data.humdata.org/dataset/ghana-administrative-boundaries \n",
    "\n",
    "customers_m4 = customers_m4.replace({'district':{ 'Atebubu Mamantin':'Atebubu',\n",
    "                                      'Bawku West':'Bakwu West',\n",
    "                                      'Bolgatanga Municipal':'Bolgatanga',\n",
    "                                      'Bunkpurugu Yunyoo':'Bunkpurugu/Yunyoo',\n",
    "                                      'Ejura Sekyedumase':'Ejura-Sekyedumasi',\n",
    "                                      'Gushegu':'Gushiegu',\n",
    "                                      'Jirapa':'Jirapa/Lambussie',\n",
    "                                      'Kassena Nankana West':'Kasena/Nankani',\n",
    "                                       'Saboba':'Saboba/Chereponi',\n",
    "                                       'Savelugu Nanton':'Savelgu/Nanton',\n",
    "                                       'Sawla Tuna Kalba':'Sawla/Tuna/Kalba',\n",
    "                                       'Talensi':'Talensi-Nabdam',\n",
    "                                       'Tamale Metropolitan':'Tamale',\n",
    "                                        'Tolon':'Tolon/Kumbungu',\n",
    "                                        'Yendi':'Yendi Municipal',\n",
    "                                        'Zabzugu':'Zabzugu/Tatale'}})"
   ]
  },
  {
   "cell_type": "code",
   "execution_count": 416,
   "metadata": {},
   "outputs": [],
   "source": [
    "#  CREATE SUMMARIZED COMMUNITY TABLE SHOWING SEASON WHEN PAYOUT OCCURRED IN VARIOUS COMMUNITIES AND NUMERIC DUMMY \n",
    "#  VARIABLE FOR SEASON \n",
    "\n",
    "community_m = community_payouts.merge(communities, on='community_id', how='left')\n",
    "community2 = community_m.pivot_table(index='community_id', columns='season_community_payouts', values = 'paid_by')\n",
    "com2 = pd.DataFrame(community_m.groupby(['community_id','season_community_payouts'])['transaction_amount_community_payouts'].sum())\n",
    "com2 = com2.reset_index()\n",
    "\n",
    "def f(row):\n",
    "    if row['season_community_payouts'] == '2018 minor':\n",
    "        val = 1\n",
    "    else:\n",
    "        val = 2\n",
    "    return val\n",
    "\n",
    "com2['season_payout_num'] = com2.apply(f, axis=1)"
   ]
  },
  {
   "cell_type": "code",
   "execution_count": 462,
   "metadata": {},
   "outputs": [],
   "source": [
    "#  MERGE COMMUNITY PAYOUT SUMMARY FILE WITH COMMUNITY SUMMARY FILE AND CREATE NUMERIC VARIABLE FOR SEASON THAT POLICY\n",
    "#  COVERED\n",
    "\n",
    "customers_m5 = customers_m4.merge(com2, on='community_id', how='left')\n",
    "\n",
    "def f(row):\n",
    "    if row['season_policies'] == '2018 minor':\n",
    "        val = 1\n",
    "    elif row['season_policies'] == '2018 major':\n",
    "        val = 2\n",
    "    elif row['season_policies'] == '2019 minor':\n",
    "        val = 3\n",
    "    elif row['season_policies'] == '2019 major':\n",
    "        val = 4\n",
    "    else:\n",
    "        val = 0\n",
    "    return val\n",
    "\n",
    "customers_m5['season_policies_num'] = customers_m5.apply(f, axis=1)"
   ]
  },
  {
   "cell_type": "code",
   "execution_count": 487,
   "metadata": {},
   "outputs": [],
   "source": [
    "#  CHECK TO MAKE SURE CUSTOMERS HAD POLICY AT TIME OF POLICY PAYOUT AND ONE IN A LATER SEASON TO CREATE DUMMY VARIABLE\n",
    "#  FOR RENEWAL DUE TO PAYOUT\n",
    "\n",
    "def f(row):\n",
    "    if row['season_policies_num'] == row['season_payout_num']:\n",
    "        val = 1\n",
    "    elif row['season_policies_num'] > row['season_payout_num']:\n",
    "        val = 2\n",
    "    else:\n",
    "        val = 0\n",
    "    return val\n",
    "\n",
    "customers_m5['renew_payout'] = customers_m5.apply(f, axis=1)"
   ]
  },
  {
   "cell_type": "code",
   "execution_count": 488,
   "metadata": {},
   "outputs": [],
   "source": [
    "#  WRITE FILE OUT TO CSV FOR USE IN TABLEAU\n",
    "\n",
    "customers_m5.to_csv('customers_m.csv')"
   ]
  },
  {
   "cell_type": "code",
   "execution_count": null,
   "metadata": {},
   "outputs": [],
   "source": [
    "#  TABLEAU CALCULATED VARIABLES CREATED\n",
    "\n",
    "# Filter selection var:\n",
    "\n",
    "# case [Filter selection]\n",
    "#\n",
    "# when 1 then [Crop]\n",
    "# when 2 then [Payment Method]\n",
    "# when 3 then [Poverty Bands]\n",
    "# when 4 then [Literacy]\n",
    "# when 5 then [Has Phone]\n",
    "# when 6 then [Gender]\n",
    "# when 7 then [Region]\n",
    "#\n",
    "# END\n",
    "\n",
    "\n",
    "# Poverty Bands:\n",
    "#\n",
    "# if [Poverty Rate] < .2 then '<20%' \n",
    "# ELSEIF [Poverty Rate] >= .2 and [Poverty Rate] <.4 then '20-39%'\n",
    "# ELSEIF [Poverty Rate] >= .4 and [Poverty Rate]<.6 then '40-59%'\n",
    "# ELSEIF [Poverty Rate] >= .6 and [Poverty Rate] <.8 then '60-79%'\n",
    "# else '>80%'\n",
    "# END\n",
    "\n",
    "# Renewed after Payout_dummy:\n",
    "#\n",
    "# if { fixed [Customer Id]: sum([Renew Payout])} > 2 then 1 else 0 end\n",
    "\n",
    "# Renewal (customer level):\n",
    "# \n",
    "# {fixed [Customer Id]: max([Renewal (num)])}\n",
    "\n",
    "# Renewal (numeric):\n",
    "#\n",
    "# If [Renewal] = 'renewed' then 1 else 0 END\n",
    "\n",
    "# Renewal After Payout:\n",
    "#\n",
    "# { fixed [Customer Id]: sum([Renew Payout])}\n",
    "\n",
    "# Renewal Rate (District):\n",
    "#\n",
    "# {FIXED [District]: sum([Renewal (customer level)])/countd([Customer Id])}\n",
    "\n",
    "# "
   ]
  }
 ],
 "metadata": {
  "kernelspec": {
   "display_name": "Python 3",
   "language": "python",
   "name": "python3"
  },
  "language_info": {
   "codemirror_mode": {
    "name": "ipython",
    "version": 3
   },
   "file_extension": ".py",
   "mimetype": "text/x-python",
   "name": "python",
   "nbconvert_exporter": "python",
   "pygments_lexer": "ipython3",
   "version": "3.6.5"
  }
 },
 "nbformat": 4,
 "nbformat_minor": 2
}
